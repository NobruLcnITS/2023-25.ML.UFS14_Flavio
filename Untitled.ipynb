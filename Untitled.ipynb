{
 "cells": [
  {
   "cell_type": "markdown",
   "id": "f531e5d7",
   "metadata": {},
   "source": [
    "# Inference"
   ]
  },
  {
   "cell_type": "code",
   "execution_count": null,
   "id": "f00a7bdb",
   "metadata": {},
   "outputs": [],
   "source": [
    "import scipy.sparse\n",
    "from sagemaker import image_uris\n",
    "image_uris.retrieve(framework='tensorflow',region='us-east-1',version='2.12.1',image_scope='inference',instance_type='ml.c5.4xlarge')\n",
    "\n",
    "    # ci stampa l'uri dell'immagine richiesta effettuando il login  "
   ]
  },
  {
   "cell_type": "code",
   "execution_count": null,
   "id": "6a660a51",
   "metadata": {},
   "outputs": [],
   "source": [
    "!aws ecr get-login-password --region us-east-1 | docker login --username AWS --password-stdin 520713654638.dkr.ecr.us-east-1.amazonaws.com\n",
    "    \n",
    "    # ecr contiene i container docker "
   ]
  },
  {
   "cell_type": "code",
   "execution_count": null,
   "id": "737476e5",
   "metadata": {},
   "outputs": [],
   "source": [
    "!docker pull 520713654638.dkr.ecr.us-east-1.amazonaws.com/sagemaker-tensorflow-serving:1.12.0-cpu\n",
    "    \n",
    "    # scarica sul host l'immagine docker identificata dall'uri che gli diamo, cioè un archivio zip dell'immagine "
   ]
  },
  {
   "cell_type": "markdown",
   "id": "f88a7577",
   "metadata": {},
   "source": [
    "# Cambio nome inference"
   ]
  },
  {
   "cell_type": "code",
   "execution_count": null,
   "id": "ba2638a8",
   "metadata": {},
   "outputs": [],
   "source": [
    "!docker tag 520713654638.dkr.ecr.us-east-1.amazonaws.com/sagemaker-tensorflow-serving:1.12.0-cpu inference:service"
   ]
  },
  {
   "cell_type": "code",
   "execution_count": null,
   "id": "c61973c3",
   "metadata": {},
   "outputs": [],
   "source": [
    "!docker images"
   ]
  },
  {
   "cell_type": "markdown",
   "id": "4de4fa72",
   "metadata": {},
   "source": [
    "# Training"
   ]
  },
  {
   "cell_type": "code",
   "execution_count": null,
   "id": "e217ce2d",
   "metadata": {},
   "outputs": [],
   "source": [
    "import scipy.sparse\n",
    "from sagemaker import image_uris\n",
    "image_uris.retrieve(framework='tensorflow',region='us-east-1',version='2.12.0',image_scope='training',instance_type='ml.c5.4xlarge')\n",
    "\n",
    "    # ecr contiene i container docker, ci stampa l'uri dell'immagine richiesta   "
   ]
  },
  {
   "cell_type": "code",
   "execution_count": null,
   "id": "5e71904b",
   "metadata": {},
   "outputs": [],
   "source": [
    "!aws ecr get-login-password --region us-east-1 | docker login --username AWS --password-stdin   763104351884.dkr.ecr.us-east-1.amazonaws.com\n",
    "    # "
   ]
  },
  {
   "cell_type": "code",
   "execution_count": null,
   "id": "53ba97e6",
   "metadata": {},
   "outputs": [],
   "source": [
    "!docker images\n",
    "\n",
    "    # visualizza tutte le immagine che ho scaricato sul pc in remoto usando docker pull"
   ]
  },
  {
   "cell_type": "markdown",
   "id": "e31997f0",
   "metadata": {},
   "source": [
    "# Build immagine"
   ]
  },
  {
   "cell_type": "code",
   "execution_count": null,
   "id": "60385435",
   "metadata": {},
   "outputs": [],
   "source": [
    "!docker build -t train:first -f Dockerfile.train .\n",
    "    "
   ]
  },
  {
   "cell_type": "code",
   "execution_count": null,
   "id": "4aa2f77a",
   "metadata": {},
   "outputs": [],
   "source": [
    "!docker images"
   ]
  },
  {
   "cell_type": "markdown",
   "id": "aa11bce2",
   "metadata": {},
   "source": [
    "# Locale"
   ]
  },
  {
   "cell_type": "code",
   "execution_count": null,
   "id": "beebf338",
   "metadata": {},
   "outputs": [],
   "source": [
    "from sagemaker import get_execution_role\n",
    "from sagemaker.estimator import Estimator\n",
    "import os\n",
    "\n",
    "role=get_execution_role()\n",
    "\n",
    "hyperparameters={'epochs': 10}\n",
    "\n",
    "estimator=Estimator(\n",
    "    image_uri='ciao:mondo',\n",
    "    role=role,\n",
    "    instance_count=1,\n",
    "    instance_type='local',\n",
    "    hyperparameters=hyperparameters,\n",
    "    output_path='file://{}/data/output'.format(os.getcwd())\n",
    ")\n",
    "\n",
    "print('##### ESTIMATOR FIT STARTED')\n",
    "estimator.fit('file://{}/data/input/card_transdata.csv'.format(os.getcwd()))\n",
    "print('##### ESTIMATOR FIT COMPLETED')\n",
    "\n",
    "    # estimator :\n",
    "        # defiscne l'immagine, \n",
    "        # la quantita di copie,\n",
    "        # locale e non remota,\n",
    "        # gli iperparametri, \n",
    "        # dove salavre i file prodotti dal training \n",
    "        \n",
    "    # estmator fit:\n",
    "        # indica all'estimator di sagemaker il file d cui prendere i dati \n",
    "        "
   ]
  },
  {
   "cell_type": "markdown",
   "id": "4a9ba53c",
   "metadata": {},
   "source": [
    "# Creazione repository ECR e Estrazione fullname image"
   ]
  },
  {
   "cell_type": "code",
   "execution_count": null,
   "id": "c332a689",
   "metadata": {},
   "outputs": [],
   "source": [
    "%%sh\n",
    "# Specify an image name\n",
    "image_name=tensorflow-training\n",
    "echo \"image_name: ${image_name} ######################\"\n",
    "\n",
    "account=$(aws sts get-caller-identity --query Account --output text)\n",
    "echo \"account: ${account} ######################\"\n",
    "\n",
    "# Get the region defined in the current configuration (default to us-west-2 if none defined)\n",
    "region=$(aws configure get region)\n",
    "echo \"region: ${region} ######################\"\n",
    "\n",
    "fullname=\"${account}.dkr.ecr.${region}.amazonaws.com/${image_name}:latest\"\n",
    "echo \"fullname: ${fullname} ######################\"\n",
    "\n",
    "aws ecr create-repository --repository-name \"${image_name}\""
   ]
  },
  {
   "cell_type": "code",
   "execution_count": null,
   "id": "642ade98",
   "metadata": {},
   "outputs": [],
   "source": [
    "!aws ecr get-login-password --region us-east-1 | docker login --username AWS --password-stdin 404098271430.dkr.ecr.us-east-1.amazonaws.com"
   ]
  },
  {
   "cell_type": "code",
   "execution_count": null,
   "id": "d2643105",
   "metadata": {},
   "outputs": [],
   "source": [
    "!docker images"
   ]
  },
  {
   "cell_type": "code",
   "execution_count": null,
   "id": "856d0546",
   "metadata": {},
   "outputs": [],
   "source": [
    "!docker tag train:first 404098271430.dkr.ecr.us-east-1.amazonaws.com/tensorflow-training:ECR"
   ]
  },
  {
   "cell_type": "code",
   "execution_count": null,
   "id": "fed21d0c",
   "metadata": {},
   "outputs": [],
   "source": [
    "!docker images"
   ]
  },
  {
   "cell_type": "code",
   "execution_count": null,
   "id": "e5829ae0",
   "metadata": {},
   "outputs": [],
   "source": [
    "!docker push 404098271430.dkr.ecr.us-east-1.amazonaws.com/tensorflow-training:ECR"
   ]
  },
  {
   "cell_type": "code",
   "execution_count": null,
   "id": "874a4a18",
   "metadata": {},
   "outputs": [],
   "source": [
    "\"\"\"!docker tag ciao:mondo 404098271430.dkr.ecr.us-east-1.amazonaws.com/tensorflow-training:ciaomondo\n",
    "        # da eliminare perchè confonde ( \"remoto\" fa il pusch di mondo e non di ciao mondo) ( cambiare tutti i ciaomondo con mondo)\"\"\""
   ]
  },
  {
   "cell_type": "code",
   "execution_count": null,
   "id": "ef56faa2",
   "metadata": {},
   "outputs": [],
   "source": [
    "\"\"\"!docker images\"\"\""
   ]
  },
  {
   "cell_type": "markdown",
   "id": "4f6056aa",
   "metadata": {},
   "source": [
    "# Remoto"
   ]
  },
  {
   "cell_type": "code",
   "execution_count": null,
   "id": "f2eb3a36",
   "metadata": {},
   "outputs": [],
   "source": [
    "from sagemaker import get_execution_role\n",
    "from sagemaker.estimator import Estimator\n",
    "import os\n",
    "\n",
    "role=get_execution_role()\n",
    "\n",
    "hyperparameters={'epochs': 10}\n",
    "\n",
    "estimator=Estimator(\n",
    "    image_uri='404098271430.dkr.ecr.us-east-1.amazonaws.com/tensorflow-training:ECR',\n",
    "    role=role,\n",
    "    instance_count=1,\n",
    "    instance_type='ml.p2.xlarge', # file in remoto \n",
    "    hyperparameters=hyperparameters,\n",
    "    output_path='s3://giorgio2111/data/output/'.format(os.getcwd())\n",
    ")\n",
    "\n",
    "print('##### ESTIMATOR FIT STARTED')\n",
    "estimator.fit('s3://giorgio2111/data/input/card_transdata.csv')\n",
    "print('##### ESTIMATOR FIT COMPLETED')\n",
    "\n",
    "    # estimator :\n",
    "        # defiscne l'immagine, \n",
    "        # la quantita di copie,\n",
    "        # loncale e non remota,\n",
    "        # gli iperparametri, \n",
    "        # dove salavre i file prodotti dal training \n",
    "        \n",
    "    # estmator fit:\n",
    "        # indica all'estimator di sagemaker il file d cui prendere i dati "
   ]
  },
  {
   "cell_type": "markdown",
   "id": "c0e221ec",
   "metadata": {},
   "source": [
    "# Estrazione modello zip  (locale )"
   ]
  },
  {
   "cell_type": "code",
   "execution_count": null,
   "id": "ccadeadb",
   "metadata": {},
   "outputs": [],
   "source": [
    "!tar -xzf data/output/output.tar.gz \n",
    "    #  estrare tutto subito, dalla cartella output trainata in remoto sulla repository usando le variabili d'ambiente ( 1 )"
   ]
  },
  {
   "cell_type": "code",
   "execution_count": null,
   "id": "9a3c462b",
   "metadata": {},
   "outputs": [],
   "source": [
    "!tar -xzf ./data/output/model.tar.gz"
   ]
  },
  {
   "cell_type": "code",
   "execution_count": null,
   "id": "d70549df",
   "metadata": {},
   "outputs": [],
   "source": [
    "!SM_MODEL_DIR=\"./data/output\" python main.py"
   ]
  },
  {
   "cell_type": "markdown",
   "id": "b17b3ba3",
   "metadata": {},
   "source": [
    "# Run modello"
   ]
  },
  {
   "cell_type": "code",
   "execution_count": null,
   "id": "aec4fa25",
   "metadata": {},
   "outputs": [],
   "source": [
    "!pip install keras==3.6.0 scikit-learn==1.5.2 pandas==2.2.3"
   ]
  },
  {
   "cell_type": "code",
   "execution_count": null,
   "id": "45366f55",
   "metadata": {},
   "outputs": [],
   "source": [
    "from keras.models import load_model"
   ]
  },
  {
   "cell_type": "code",
   "execution_count": null,
   "id": "8bf90411",
   "metadata": {},
   "outputs": [],
   "source": [
    "model = load_model(\"output_model.keras\")"
   ]
  },
  {
   "cell_type": "code",
   "execution_count": null,
   "id": "c45e27f4",
   "metadata": {},
   "outputs": [],
   "source": [
    "type(model)"
   ]
  },
  {
   "cell_type": "markdown",
   "id": "77c02ffd",
   "metadata": {},
   "source": [
    "# creazione repository ECR dedicato all'inferenza ( verde )"
   ]
  },
  {
   "cell_type": "code",
   "execution_count": null,
   "id": "fdd66002",
   "metadata": {},
   "outputs": [],
   "source": [
    "%%sh\n",
    "# Specify an image name\n",
    "image_name=tensorflow-inference\n",
    "echo \"image_name: ${image_name} ######################\"\n",
    "\n",
    "account=$(aws sts get-caller-identity --query Account --output text)\n",
    "echo \"account: ${account} ######################\"\n",
    "\n",
    "# Get the region defined in the current configuration (default to us-west-2 if none defined)\n",
    "region=$(aws configure get region)\n",
    "echo \"region: ${region} ######################\"\n",
    "\n",
    "fullname=\"${account}.dkr.ecr.${region}.amazonaws.com/${image_name}:2.12.0-cpu-py310-pluto-2\"\n",
    "echo \"fullname: ${fullname} ######################\"\n",
    "\n",
    "aws ecr describe-repositories --repository-names \"${image_name}\"\n",
    "if [ $? -ne 0 ]\n",
    "then\n",
    "aws ecr create-repository --repository-name \"${image_name}\"\n",
    "fi"
   ]
  },
  {
   "cell_type": "markdown",
   "id": "e7e13b4a",
   "metadata": {},
   "source": [
    "# Login su ECR condivso  ( giallo ) presenti immagini base infrenza "
   ]
  },
  {
   "cell_type": "code",
   "execution_count": null,
   "id": "47ec5a27",
   "metadata": {},
   "outputs": [],
   "source": [
    "!aws ecr get-login-password --region us-east-1 | docker login --username AWS --password-stdin 520713654638.dkr.ecr.us-east-1.amazonaws.com"
   ]
  },
  {
   "cell_type": "markdown",
   "id": "9e04b318",
   "metadata": {},
   "source": [
    "# Build immgine docker per infrenza "
   ]
  },
  {
   "cell_type": "code",
   "execution_count": null,
   "id": "9e6da1c1",
   "metadata": {},
   "outputs": [],
   "source": [
    "!docker build -t 404098271430.dkr.ecr.us-east-1.amazonaws.com/tensorflow-inference -f Dockerfile.inference ."
   ]
  },
  {
   "cell_type": "code",
   "execution_count": null,
   "id": "d2159b57",
   "metadata": {},
   "outputs": [],
   "source": [
    "!docker images"
   ]
  },
  {
   "cell_type": "markdown",
   "id": "0258ef60",
   "metadata": {},
   "source": [
    "# Pusha sulla repository privata ( verde )"
   ]
  },
  {
   "cell_type": "code",
   "execution_count": null,
   "id": "192bd90a",
   "metadata": {},
   "outputs": [],
   "source": [
    "!docker push 404098271430.dkr.ecr.us-east-1.amazonaws.com/tensorflow-inference:latest"
   ]
  },
  {
   "cell_type": "code",
   "execution_count": null,
   "id": "5f448bda",
   "metadata": {},
   "outputs": [],
   "source": [
    "from sagemaker import get_execution_role\n",
    "import boto3\n",
    "import datetime\n",
    "from time import gmtime, strftime\n",
    "\n",
    "# https://docs.aws.amazon.com/sagemaker/latest/dg/realtime-endpoints-deployment.html\n",
    "\n",
    "# SETUP AUTENTICAZIONE \n",
    "my_session = boto3.session.Session()\n",
    "aws_region = my_session.region_name\n",
    "\n",
    "sagemaker_client = boto3.client('sagemaker', region_name=aws_region)\n",
    "\n",
    "sagemaker_role = get_execution_role()\n",
    "\n",
    "model_name = 'training-2023-11-23-18-45-31-074'\n",
    "\n",
    "# Create model\n",
    "create_model_response = sagemaker_client.create_model(\n",
    "    ModelName = model_name,\n",
    "    ExecutionRoleArn = sagemaker_role,\n",
    "    PrimaryContainer = {\n",
    "        'Image': '404098271430.dkr.ecr.us-east-1.amazonaws.com/tensorflow-inference:latest',\n",
    "        'ModelDataUrl': 's3://giorgio2111/data/output/tensorflow-training-2024-11-21-20-30-03-614/output/model.tar.gz',\n",
    "    })\n"
   ]
  },
  {
   "cell_type": "code",
   "execution_count": null,
   "id": "4303ba90",
   "metadata": {},
   "outputs": [],
   "source": [
    "# Create an endpoint config name. Here we create one based on the date  \n",
    "# so it we can search endpoints based on creation time.\n",
    "endpoint_config_name = 'la-mia-prima-api-inferenza'\n",
    "\n",
    "instance_type = 'ml.p2.xlarge'\n",
    "\n",
    "endpoint_config_response = sagemaker_client.create_endpoint_config(\n",
    "    EndpointConfigName=endpoint_config_name,\n",
    "    # You will specify this name in a CreateEndpoint request.\n",
    "    # List of ProductionVariant objects, one for each model that you want to host at this endpoint.\n",
    "    ProductionVariants=[\n",
    "        {\n",
    "            \"VariantName\": \"variant1\", # The name of the production variant.\n",
    "            \"ModelName\": model_name,\n",
    "            \"InstanceType\": instance_type, # Specify the compute instance type.\n",
    "            \"InitialInstanceCount\": 1 # Number of instances to launch initially.\n",
    "        }\n",
    "    ]\n",
    ")\n",
    "\n",
    "print(f\"Created EndpointConfig: {endpoint_config_response['EndpointConfigArn']}\")\n",
    "\n",
    "# The name of the endpoint. The name must be unique within an AWS Region in your AWS account.\n",
    "endpoint_name = 'la-mia-prima-api-inferenza'\n",
    "\n",
    "create_endpoint_response = sagemaker_client.create_endpoint(\n",
    "                                            EndpointName=endpoint_name, \n",
    "                                            EndpointConfigName=endpoint_config_name)"
   ]
  },
  {
   "cell_type": "code",
   "execution_count": null,
   "id": "a0a10f96",
   "metadata": {},
   "outputs": [],
   "source": []
  },
  {
   "cell_type": "code",
   "execution_count": null,
   "id": "34d7b591",
   "metadata": {},
   "outputs": [],
   "source": []
  }
 ],
 "metadata": {
  "kernelspec": {
   "display_name": "conda_python3",
   "language": "python",
   "name": "conda_python3"
  },
  "language_info": {
   "codemirror_mode": {
    "name": "ipython",
    "version": 3
   },
   "file_extension": ".py",
   "mimetype": "text/x-python",
   "name": "python",
   "nbconvert_exporter": "python",
   "pygments_lexer": "ipython3",
   "version": "3.10.15"
  }
 },
 "nbformat": 4,
 "nbformat_minor": 5
}
