{
 "cells": [
  {
   "cell_type": "markdown",
   "id": "92f4f055",
   "metadata": {},
   "source": [
    "# Inference"
   ]
  },
  {
   "cell_type": "code",
   "execution_count": null,
   "id": "103902ea",
   "metadata": {},
   "outputs": [],
   "source": [
    "import scipy.sparse\n",
    "from sagemaker import image_uris\n",
    "image_uris.retrieve(framework='tensorflow',region='us-east-1',version='2.12.1',image_scope='inference',instance_type='ml.c5.4xlarge')\n",
    "\n",
    "    # ci stampa l'uri dell'immagine richiesta effettuando il login  "
   ]
  },
  {
   "cell_type": "code",
   "execution_count": null,
   "id": "acf7541b",
   "metadata": {},
   "outputs": [],
   "source": [
    "!aws ecr get-login-password --region us-east-1 | docker login --username AWS --password-stdin 520713654638.dkr.ecr.us-east-1.amazonaws.com\n",
    "    \n",
    "    # ecr contiene i container docker "
   ]
  },
  {
   "cell_type": "code",
   "execution_count": null,
   "id": "8b63bcba",
   "metadata": {},
   "outputs": [],
   "source": [
    "!docker pull 520713654638.dkr.ecr.us-east-1.amazonaws.com/sagemaker-tensorflow-serving:1.12.0-cpu\n",
    "    \n",
    "    # scarica sul host l'immagine docker identificata dall'uri che gli diamo, cioè un archivio zip delll'immagine "
   ]
  },
  {
   "cell_type": "markdown",
   "id": "da8bfcc3",
   "metadata": {},
   "source": [
    "# Training"
   ]
  },
  {
   "cell_type": "code",
   "execution_count": null,
   "id": "06adc0b1",
   "metadata": {},
   "outputs": [],
   "source": [
    "import scipy.sparse\n",
    "from sagemaker import image_uris\n",
    "image_uris.retrieve(framework='tensorflow',region='us-east-1',version='2.12.0',image_scope='training',instance_type='ml.c5.4xlarge')\n",
    "\n",
    "    # ecr contiene i container docker, ci stampa l'uri dell'immagine richiesta   "
   ]
  },
  {
   "cell_type": "code",
   "execution_count": null,
   "id": "065252fb",
   "metadata": {},
   "outputs": [],
   "source": [
    "!aws ecr get-login-password --region us-east-1 | docker login --username AWS --password-stdin   763104351884.dkr.ecr.us-east-1.amazonaws.com\n",
    "    # "
   ]
  },
  {
   "cell_type": "code",
   "execution_count": null,
   "id": "da9948eb",
   "metadata": {},
   "outputs": [],
   "source": [
    "!docker images\n",
    "\n",
    "    # visualizza tutte le immagine che ho scaricato sul pc in remoto usando docker pull"
   ]
  },
  {
   "cell_type": "markdown",
   "id": "a0595466",
   "metadata": {},
   "source": [
    "# Build immagine"
   ]
  },
  {
   "cell_type": "code",
   "execution_count": null,
   "id": "69b26e52",
   "metadata": {},
   "outputs": [],
   "source": [
    "!docker build -t ciao:mondo -f Dockerfile.train .\n",
    "    "
   ]
  },
  {
   "cell_type": "code",
   "execution_count": null,
   "id": "02cbabc7",
   "metadata": {},
   "outputs": [],
   "source": [
    "!docker images"
   ]
  },
  {
   "cell_type": "markdown",
   "id": "774bad5d",
   "metadata": {},
   "source": [
    "# Locale"
   ]
  },
  {
   "cell_type": "code",
   "execution_count": null,
   "id": "3d46f0ac",
   "metadata": {},
   "outputs": [],
   "source": [
    "from sagemaker import get_execution_role\n",
    "from sagemaker.estimator import Estimator\n",
    "import os\n",
    "\n",
    "role=get_execution_role()\n",
    "\n",
    "hyperparameters={'epochs': 10}\n",
    "\n",
    "estimator=Estimator(\n",
    "    image_uri='ciao:mondo',\n",
    "    role=role,\n",
    "    instance_count=1,\n",
    "    instance_type='local',\n",
    "    hyperparameters=hyperparameters,\n",
    "    output_path='file://{}/data/output'.format(os.getcwd())\n",
    ")\n",
    "\n",
    "print('##### ESTIMATOR FIT STARTED')\n",
    "estimator.fit('file://{}/data/input/card_transdata.csv'.format(os.getcwd()))\n",
    "print('##### ESTIMATOR FIT COMPLETED')\n",
    "\n",
    "    # estimator :\n",
    "        # defiscne l'immagine, \n",
    "        # la quantita di copie,\n",
    "        # locale e non remota,\n",
    "        # gli iperparametri, \n",
    "        # dove salavre i file prodotti dal training \n",
    "        \n",
    "    # estmator fit:\n",
    "        # indica all'estimator di sagemaker il file d cui prendere i dati \n",
    "        "
   ]
  },
  {
   "cell_type": "markdown",
   "id": "f1cf483d",
   "metadata": {},
   "source": [
    "# Estrazione fullname image"
   ]
  },
  {
   "cell_type": "code",
   "execution_count": null,
   "id": "e8048ab9",
   "metadata": {},
   "outputs": [],
   "source": [
    "%%sh\n",
    "# Specify an image name\n",
    "image_name=tensorflow-training\n",
    "echo \"image_name: ${image_name} ######################\"\n",
    "\n",
    "account=$(aws sts get-caller-identity --query Account --output text)\n",
    "echo \"account: ${account} ######################\"\n",
    "\n",
    "# Get the region defined in the current configuration (default to us-west-2 if none defined)\n",
    "region=$(aws configure get region)\n",
    "echo \"region: ${region} ######################\"\n",
    "\n",
    "fullname=\"${account}.dkr.ecr.${region}.amazonaws.com/${image_name}:latest\"\n",
    "echo \"fullname: ${fullname} ######################\"\n",
    "\n",
    "aws ecr create-repository --repository-name \"${image_name}\""
   ]
  },
  {
   "cell_type": "code",
   "execution_count": null,
   "id": "25423045",
   "metadata": {},
   "outputs": [],
   "source": [
    "!aws ecr get-login-password --region us-east-1 | docker login --username AWS --password-stdin 404098271430.dkr.ecr.us-east-1.amazonaws.com"
   ]
  },
  {
   "cell_type": "code",
   "execution_count": null,
   "id": "09002206",
   "metadata": {},
   "outputs": [],
   "source": [
    "!docker tag ciao:mondo 404098271430.dkr.ecr.us-east-1.amazonaws.com/tensorflow-training:mondo"
   ]
  },
  {
   "cell_type": "code",
   "execution_count": null,
   "id": "c054380c",
   "metadata": {},
   "outputs": [],
   "source": [
    "!docker images"
   ]
  },
  {
   "cell_type": "code",
   "execution_count": null,
   "id": "9bba8650",
   "metadata": {},
   "outputs": [],
   "source": [
    "!docker push 404098271430.dkr.ecr.us-east-1.amazonaws.com/tensorflow-training:mondo"
   ]
  },
  {
   "cell_type": "code",
   "execution_count": null,
   "id": "c0e5a3e3",
   "metadata": {},
   "outputs": [],
   "source": [
    "!docker tag ciao:mondo 404098271430.dkr.ecr.us-east-1.amazonaws.com/tensorflow-training:ciaomondo"
   ]
  },
  {
   "cell_type": "markdown",
   "id": "6d199b90",
   "metadata": {},
   "source": [
    "# Remoto"
   ]
  },
  {
   "cell_type": "code",
   "execution_count": null,
   "id": "71dcd729",
   "metadata": {},
   "outputs": [],
   "source": [
    "from sagemaker import get_execution_role\n",
    "from sagemaker.estimator import Estimator\n",
    "import os\n",
    "\n",
    "role=get_execution_role()\n",
    "\n",
    "hyperparameters={'epochs': 10}\n",
    "\n",
    "estimator=Estimator(\n",
    "    image_uri='404098271430.dkr.ecr.us-east-1.amazonaws.com/tensorflow-training:ciaomondo',\n",
    "    role=role,\n",
    "    instance_count=1,\n",
    "    instance_type='ml.p2.xlarge', # file in remoto \n",
    "    hyperparameters=hyperparameters,\n",
    "    output_path='s3://data-5-11-24/data/output'.format(os.getcwd())\n",
    ")\n",
    "\n",
    "print('##### ESTIMATOR FIT STARTED')\n",
    "estimator.fit('s3://data-5-11-24/data/input/card_transdata.csv')\n",
    "print('##### ESTIMATOR FIT COMPLETED')\n",
    "\n",
    "    # estimator :\n",
    "        # defiscne l'immagine, \n",
    "        # la quantita di copie,\n",
    "        # loncale e non remota,\n",
    "        # gli iperparametri, \n",
    "        # dove salavre i file prodotti dal training \n",
    "        \n",
    "    # estmator fit:\n",
    "        # indica all'estimator di sagemaker il file d cui prendere i dati "
   ]
  },
  {
   "cell_type": "code",
   "execution_count": null,
   "id": "81906a46",
   "metadata": {},
   "outputs": [],
   "source": [
    "!docker build -t 404098271430.dkr.ecr.us-east-1.amazonaws.com/tensorflow-training:ciaomondo -f Dockerfile.train .\n",
    "    "
   ]
  },
  {
   "cell_type": "code",
   "execution_count": null,
   "id": "e8d70de4",
   "metadata": {},
   "outputs": [],
   "source": [
    "!docker push 404098271430.dkr.ecr.us-east-1.amazonaws.com/tensorflow-training:ciaomondo"
   ]
  },
  {
   "cell_type": "markdown",
   "id": "9d6bd263",
   "metadata": {},
   "source": [
    "# Estrazione modello zip"
   ]
  },
  {
   "cell_type": "code",
   "execution_count": null,
   "id": "6ae1bbea",
   "metadata": {},
   "outputs": [],
   "source": [
    "!tar -xzf data/output/output.tar.gz \n",
    "    #  estrare tutto subito, dalla cartella output trainata in remoto sulla repository usando le variabili d'ambiente ( 1 )"
   ]
  },
  {
   "cell_type": "code",
   "execution_count": null,
   "id": "66f95792",
   "metadata": {},
   "outputs": [],
   "source": [
    "!tar -xzf ./data/output/model.tar.gz"
   ]
  },
  {
   "cell_type": "code",
   "execution_count": null,
   "id": "35da268a",
   "metadata": {},
   "outputs": [],
   "source": [
    "!SM_MODEL_DIR=\"./data/output\" python main.py"
   ]
  },
  {
   "cell_type": "markdown",
   "id": "414565a8",
   "metadata": {},
   "source": [
    "# Run modello"
   ]
  },
  {
   "cell_type": "code",
   "execution_count": null,
   "id": "348a79eb",
   "metadata": {},
   "outputs": [],
   "source": [
    "!pip install keras tensorflow"
   ]
  },
  {
   "cell_type": "code",
   "execution_count": null,
   "id": "ad1745cc",
   "metadata": {},
   "outputs": [],
   "source": [
    "from keras.models import load_model"
   ]
  },
  {
   "cell_type": "code",
   "execution_count": null,
   "id": "e3d82d34",
   "metadata": {},
   "outputs": [],
   "source": [
    "model = load_model(\"output_model.keras\")"
   ]
  },
  {
   "cell_type": "code",
   "execution_count": null,
   "id": "f25bb21f",
   "metadata": {},
   "outputs": [],
   "source": [
    "type(model)"
   ]
  },
  {
   "cell_type": "markdown",
   "id": "91ed8bcf",
   "metadata": {},
   "source": [
    "# creazione repository ECR dedicato all'inferenza ( verde )"
   ]
  },
  {
   "cell_type": "code",
   "execution_count": null,
   "id": "aaca4823",
   "metadata": {},
   "outputs": [],
   "source": [
    "%%sh\n",
    "# Specify an image name\n",
    "image_name=tensorflow-inference\n",
    "echo \"image_name: ${image_name} ######################\"\n",
    "\n",
    "account=$(aws sts get-caller-identity --query Account --output text)\n",
    "echo \"account: ${account} ######################\"\n",
    "\n",
    "# Get the region defined in the current configuration (default to us-west-2 if none defined)\n",
    "region=$(aws configure get region)\n",
    "echo \"region: ${region} ######################\"\n",
    "\n",
    "fullname=\"${account}.dkr.ecr.${region}.amazonaws.com/${image_name}:2.12.0-cpu-py310-pluto-2\"\n",
    "echo \"fullname: ${fullname} ######################\"\n",
    "\n",
    "aws ecr describe-repositories --repository-names \"${image_name}\"\n",
    "if [ $? -ne 0 ]\n",
    "then\n",
    "aws ecr create-repository --repository-name \"${image_name}\"\n",
    "fi"
   ]
  },
  {
   "cell_type": "markdown",
   "id": "0553b3dd",
   "metadata": {},
   "source": [
    "# Login su ECR condivso  ( giallo ) presenti immagini base infrenza "
   ]
  },
  {
   "cell_type": "code",
   "execution_count": null,
   "id": "5620a680",
   "metadata": {},
   "outputs": [],
   "source": [
    "!aws ecr get-login-password --region us-east-1 | docker login --username AWS --password-stdin 520713654638.dkr.ecr.us-east-1.amazonaws.com"
   ]
  },
  {
   "cell_type": "markdown",
   "id": "ad610434",
   "metadata": {},
   "source": [
    "# Build immgine docker per infrenza "
   ]
  },
  {
   "cell_type": "code",
   "execution_count": 64,
   "id": "85c0583e",
   "metadata": {},
   "outputs": [
    {
     "name": "stdout",
     "output_type": "stream",
     "text": [
      "\u001b[1A\u001b[1B\u001b[0G\u001b[?25l[+] Building 0.0s (0/1)                                          docker:default\n",
      "\u001b[?25h\u001b[1A\u001b[0G\u001b[?25l[+] Building 0.2s (2/3)                                          docker:default\n",
      "\u001b[34m => [internal] load build definition from Dockerfile.inference             0.0s\n",
      "\u001b[0m\u001b[34m => => transferring dockerfile: 360B                                       0.0s\n",
      "\u001b[0m => [internal] load metadata for 763104351884.dkr.ecr.us-east-1.amazonaws  0.2s\n",
      "\u001b[34m => [auth] sharing credentials for 763104351884.dkr.ecr.us-east-1.amazona  0.0s\n",
      "\u001b[0m\u001b[?25h\u001b[1A\u001b[1A\u001b[1A\u001b[1A\u001b[1A\u001b[0G\u001b[?25l[+] Building 0.2s (3/3)                                          docker:default\n",
      "\u001b[34m => [internal] load build definition from Dockerfile.inference             0.0s\n",
      "\u001b[0m\u001b[34m => => transferring dockerfile: 360B                                       0.0s\n",
      "\u001b[0m\u001b[34m => [internal] load metadata for 763104351884.dkr.ecr.us-east-1.amazonaws  0.2s\n",
      "\u001b[0m\u001b[34m => [auth] sharing credentials for 763104351884.dkr.ecr.us-east-1.amazona  0.0s\n",
      "\u001b[0m\u001b[?25h\u001b[1A\u001b[1A\u001b[1A\u001b[1A\u001b[1A\u001b[0G\u001b[?25l[+] Building 0.3s (10/10) FINISHED                               docker:default\n",
      "\u001b[34m => [internal] load build definition from Dockerfile.inference             0.0s\n",
      "\u001b[0m\u001b[34m => => transferring dockerfile: 360B                                       0.0s\n",
      "\u001b[0m\u001b[34m => [internal] load metadata for 763104351884.dkr.ecr.us-east-1.amazonaws  0.2s\n",
      "\u001b[0m\u001b[34m => [auth] sharing credentials for 763104351884.dkr.ecr.us-east-1.amazona  0.0s\n",
      "\u001b[0m\u001b[34m => [internal] load .dockerignore                                          0.0s\n",
      "\u001b[0m\u001b[34m => => transferring context: 2B                                            0.0s\n",
      "\u001b[0m\u001b[34m => [1/4] FROM 763104351884.dkr.ecr.us-east-1.amazonaws.com/tensorflow-in  0.0s\n",
      "\u001b[0m\u001b[34m => [internal] load build context                                          0.0s\n",
      "\u001b[0m\u001b[34m => => transferring context: 79B                                           0.0s\n",
      "\u001b[0m\u001b[34m => CACHED [2/4] ADD ./requirements.inference.txt /opt/requirements.txt    0.0s\n",
      "\u001b[0m\u001b[34m => CACHED [3/4] RUN pip3 install -r /opt/requirements.txt                 0.0s\n",
      "\u001b[0m\u001b[34m => CACHED [4/4] ADD ./inference.py /opt/inference.py                      0.0s\n",
      "\u001b[0m\u001b[34m => exporting to image                                                     0.0s\n",
      "\u001b[0m\u001b[34m => => exporting layers                                                    0.0s\n",
      "\u001b[0m\u001b[34m => => writing image sha256:569cbc8fabf6d2b9d8f9bf8bc161354c7a6432c5503d5  0.0s\n",
      "\u001b[0m\u001b[34m => => naming to 404098271430.dkr.ecr.us-east-1.amazonaws.com/tensorflow-  0.0s\n",
      "\u001b[0m\u001b[?25h"
     ]
    }
   ],
   "source": [
    "!docker build -t 404098271430.dkr.ecr.us-east-1.amazonaws.com/tensorflow-inference -f Dockerfile.inference ."
   ]
  },
  {
   "cell_type": "code",
   "execution_count": 63,
   "id": "a0dc140b",
   "metadata": {},
   "outputs": [
    {
     "name": "stdout",
     "output_type": "stream",
     "text": [
      "REPOSITORY                                                                  TAG          IMAGE ID       CREATED         SIZE\n",
      "404098271430.dkr.ecr.us-east-1.amazonaws.com/tensorflow-inference           latest       41148d5b665e   3 minutes ago   4.86GB\n",
      "404098271430.dkr.ecr.us-east-1.amazonaws.com/tensorflow-training            ciaomondo    017b32791fcf   2 hours ago     6.29GB\n",
      "404098271430.dkr.ecr.us-east-1.amazonaws.com/tensorflow-training            mondo        017b32791fcf   2 hours ago     6.29GB\n",
      "ciao                                                                        mondo        017b32791fcf   2 hours ago     6.29GB\n",
      "404098271430.dkr.ecr.us-east-1.amazonaws.com/tensorflow-inference           <none>       6c4e927c7041   5 years ago     377MB\n",
      "520713654638.dkr.ecr.us-east-1.amazonaws.com/sagemaker-tensorflow-serving   1.12.0-cpu   27aee10a9f6a   5 years ago     377MB\n"
     ]
    }
   ],
   "source": [
    "!docker images"
   ]
  },
  {
   "cell_type": "markdown",
   "id": "85743ed4",
   "metadata": {},
   "source": [
    "# Pusha sulla repository privata ( verde )"
   ]
  },
  {
   "cell_type": "code",
   "execution_count": 66,
   "id": "39ead90f",
   "metadata": {},
   "outputs": [
    {
     "name": "stdout",
     "output_type": "stream",
     "text": [
      "The push refers to repository [404098271430.dkr.ecr.us-east-1.amazonaws.com/tensorflow-inference]\n",
      "\n",
      "\u001b[1B2b49157b: Preparing \n",
      "\u001b[1Ba8121fc1: Preparing \n",
      "\u001b[1Bcdbd61ff: Preparing \n",
      "\u001b[1B37bf1d61: Preparing \n",
      "\u001b[1B8df97c44: Preparing \n",
      "\u001b[1B764747b4: Preparing \n",
      "\u001b[1B1a68f579: Preparing \n",
      "\u001b[1B2eef5eea: Preparing \n",
      "\u001b[1Bb5bcc575: Preparing \n",
      "\u001b[1B5e5ce62f: Preparing \n",
      "\u001b[1B757a305d: Preparing \n",
      "\u001b[1Bc7cf6f28: Preparing \n",
      "\u001b[1B30092134: Preparing \n",
      "\u001b[1Bfb153852: Preparing \n",
      "\u001b[1B0903db8c: Preparing \n",
      "\u001b[1B19dec72a: Preparing \n",
      "\u001b[1Bdf04f233: Preparing \n",
      "\u001b[1Bf2dbc490: Preparing \n",
      "\u001b[1Bba0431f9: Preparing \n",
      "\u001b[1B71536788: Preparing \n",
      "\u001b[1B994107ae: Preparing \n",
      "\u001b[1B3a4f83e7: Preparing \n",
      "\u001b[1Bd6748243: Preparing \n",
      "\u001b[1Bf2c1e372: Preparing \n",
      "\u001b[1Bcd2b5d6d: Preparing \n",
      "\u001b[1Bca73c74f: Layer already exists \u001b[18A\u001b[2K\u001b[16A\u001b[2K\u001b[11A\u001b[2K\u001b[7A\u001b[2K\u001b[2A\u001b[2Klatest: digest: sha256:57627948c5c50f62d57c94a59388ce9a70bc8066009b73429efec64e8e726aa8 size: 5765\n"
     ]
    }
   ],
   "source": [
    "!docker push 404098271430.dkr.ecr.us-east-1.amazonaws.com/tensorflow-inference:latest"
   ]
  },
  {
   "cell_type": "code",
   "execution_count": 68,
   "id": "e130d687",
   "metadata": {},
   "outputs": [],
   "source": [
    "from sagemaker import get_execution_role\n",
    "import boto3\n",
    "import datetime\n",
    "from time import gmtime, strftime\n",
    "\n",
    "# https://docs.aws.amazon.com/sagemaker/latest/dg/realtime-endpoints-deployment.html\n",
    "\n",
    "# SETUP AUTENTICAZIONE \n",
    "my_session = boto3.session.Session()\n",
    "aws_region = my_session.region_name\n",
    "\n",
    "sagemaker_client = boto3.client('sagemaker', region_name=aws_region)\n",
    "\n",
    "sagemaker_role = get_execution_role()\n",
    "\n",
    "model_name = 'training-2023-11-23-18-45-31-074'\n",
    "\n",
    "# Create model\n",
    "create_model_response = sagemaker_client.create_model(\n",
    "    ModelName = model_name,\n",
    "    ExecutionRoleArn = sagemaker_role,\n",
    "    PrimaryContainer = {\n",
    "        'Image': '404098271430.dkr.ecr.us-east-1.amazonaws.com/tensorflow-inference:latest',\n",
    "        'ModelDataUrl': 's3://data-5-11-24/data/output/training_job-2024-11-05-14-05-20/output/model.tar.gz',\n",
    "    })\n"
   ]
  },
  {
   "cell_type": "code",
   "execution_count": 69,
   "id": "42122191",
   "metadata": {},
   "outputs": [
    {
     "name": "stdout",
     "output_type": "stream",
     "text": [
      "Created EndpointConfig: arn:aws:sagemaker:us-east-1:404098271430:endpoint-config/la-mia-prima-api-inferenza\n"
     ]
    }
   ],
   "source": [
    "# Create an endpoint config name. Here we create one based on the date  \n",
    "# so it we can search endpoints based on creation time.\n",
    "endpoint_config_name = 'la-mia-prima-api-inferenza'\n",
    "\n",
    "instance_type = 'ml.p2.xlarge'\n",
    "\n",
    "endpoint_config_response = sagemaker_client.create_endpoint_config(\n",
    "    EndpointConfigName=endpoint_config_name,\n",
    "    # You will specify this name in a CreateEndpoint request.\n",
    "    # List of ProductionVariant objects, one for each model that you want to host at this endpoint.\n",
    "    ProductionVariants=[\n",
    "        {\n",
    "            \"VariantName\": \"variant1\", # The name of the production variant.\n",
    "            \"ModelName\": model_name,\n",
    "            \"InstanceType\": instance_type, # Specify the compute instance type.\n",
    "            \"InitialInstanceCount\": 1 # Number of instances to launch initially.\n",
    "        }\n",
    "    ]\n",
    ")\n",
    "\n",
    "print(f\"Created EndpointConfig: {endpoint_config_response['EndpointConfigArn']}\")\n",
    "\n",
    "# The name of the endpoint. The name must be unique within an AWS Region in your AWS account.\n",
    "endpoint_name = 'la-mia-prima-api-inferenza'\n",
    "\n",
    "create_endpoint_response = sagemaker_client.create_endpoint(\n",
    "                                            EndpointName=endpoint_name, \n",
    "                                            EndpointConfigName=endpoint_config_name)"
   ]
  },
  {
   "cell_type": "code",
   "execution_count": null,
   "id": "763c962e",
   "metadata": {},
   "outputs": [],
   "source": []
  }
 ],
 "metadata": {
  "kernelspec": {
   "display_name": "conda_python3",
   "language": "python",
   "name": "conda_python3"
  },
  "language_info": {
   "codemirror_mode": {
    "name": "ipython",
    "version": 3
   },
   "file_extension": ".py",
   "mimetype": "text/x-python",
   "name": "python",
   "nbconvert_exporter": "python",
   "pygments_lexer": "ipython3",
   "version": "3.10.15"
  }
 },
 "nbformat": 4,
 "nbformat_minor": 5
}
