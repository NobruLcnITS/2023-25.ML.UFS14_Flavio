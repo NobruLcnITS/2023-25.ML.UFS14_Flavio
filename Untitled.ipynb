{
 "cells": [
  {
   "cell_type": "code",
   "execution_count": null,
   "id": "828e773f",
   "metadata": {},
   "outputs": [],
   "source": [
    "import scipy.sparse\n",
    "from sagemaker import image_uris\n",
    "image_uris.retrieve(framework='tensorflow',region='us-east-1',version='1.12.0',image_scope='inference',instance_type='ml.c5.4xlarge')\n",
    "\n",
    "    # ci stampa l'uri dell'immagine richiesta effettuando il login  "
   ]
  },
  {
   "cell_type": "code",
   "execution_count": null,
   "id": "284ffdae",
   "metadata": {},
   "outputs": [],
   "source": [
    "!aws ecr get-login-password --region us-east-1 | docker login --username AWS --password-stdin 520713654638.dkr.ecr.us-east-1.amazonaws.com\n",
    "    \n",
    "    # ecr contiene i container docker "
   ]
  },
  {
   "cell_type": "code",
   "execution_count": null,
   "id": "1917fda4",
   "metadata": {},
   "outputs": [],
   "source": [
    "!docker pull 520713654638.dkr.ecr.us-east-1.amazonaws.com/sagemaker-tensorflow-serving:1.12.0-cpu\n",
    "    \n",
    "    # scarica sul host l'immagine docker identificata dall'uri che gli diamo, cioè un archivio zip delll'immagine "
   ]
  },
  {
   "cell_type": "markdown",
   "id": "9101da60",
   "metadata": {},
   "source": [
    "# sopra \"inutile\""
   ]
  },
  {
   "cell_type": "code",
   "execution_count": null,
   "id": "b4d870ab",
   "metadata": {},
   "outputs": [],
   "source": [
    "import scipy.sparse\n",
    "from sagemaker import image_uris\n",
    "image_uris.retrieve(framework='tensorflow',region='us-east-1',version='2.12.0',image_scope='training',instance_type='ml.c5.4xlarge')\n",
    "\n",
    "    # ecr contiene i container docker, ci stampa l'uri dell'immagine richiesta   "
   ]
  },
  {
   "cell_type": "code",
   "execution_count": null,
   "id": "4d0e8bf5",
   "metadata": {},
   "outputs": [],
   "source": [
    "!aws ecr get-login-password --region us-east-1 | docker login --username AWS --password-stdin   763104351884.dkr.ecr.us-east-1.amazonaws.com\n",
    "    # "
   ]
  },
  {
   "cell_type": "code",
   "execution_count": null,
   "id": "1eedfd05",
   "metadata": {},
   "outputs": [],
   "source": [
    "!docker images\n",
    "\n",
    "    # visualizza tutte le immagine che ho scaricato sul pc in remoto usando docker pull"
   ]
  },
  {
   "cell_type": "code",
   "execution_count": null,
   "id": "a8b6cef0",
   "metadata": {},
   "outputs": [],
   "source": [
    "!docker build -t ciao:mondo -f Dockerfile.train .\n",
    "    "
   ]
  },
  {
   "cell_type": "code",
   "execution_count": null,
   "id": "393f185b",
   "metadata": {},
   "outputs": [],
   "source": [
    "!docker images"
   ]
  },
  {
   "cell_type": "code",
   "execution_count": null,
   "id": "4dcb5cec",
   "metadata": {},
   "outputs": [],
   "source": [
    "from sagemaker import get_execution_role\n",
    "from sagemaker.estimator import Estimator\n",
    "import os\n",
    "\n",
    "role=get_execution_role()\n",
    "\n",
    "hyperparameters={'epochs': }\n",
    "\n",
    "estimator=Estimator(\n",
    "    image_uri='ciao:mondo',\n",
    "    role=role,\n",
    "    instance_count=1,\n",
    "    instance_type='local',\n",
    "    hyperparameters=hyperparameters,\n",
    "    output_path='file://{}/data/output'.format(os.getcwd())\n",
    ")\n",
    "\n",
    "print('##### ESTIMATOR FIT STARTED')\n",
    "estimator.fit('file://{}/data/input/card_transdata.csv'.format(os.getcwd()))\n",
    "print('##### ESTIMATOR FIT COMPLETED')\n",
    "\n",
    "    # estimator :\n",
    "        # defiscne l'immagine, \n",
    "        # la quantita di copie,\n",
    "        # locale e non remota,\n",
    "        # gli iperparametri, \n",
    "        # dove salavre i file prodotti dal training \n",
    "        \n",
    "    # estmator fit:\n",
    "        # indica all'estimator di sagemaker il file d cui prendere i dati \n",
    "        "
   ]
  },
  {
   "cell_type": "markdown",
   "id": "1e4feef6",
   "metadata": {},
   "source": [
    "# Remoto"
   ]
  },
  {
   "cell_type": "code",
   "execution_count": 53,
   "id": "93174ac4",
   "metadata": {},
   "outputs": [],
   "source": [
    "!tar -xzf data/output/output.tar.gz \n",
    "    #  estrare tutto subito, dalla cartella output trainata in remoto sulla repository usando le variabili d'ambiente ( 1 )"
   ]
  },
  {
   "cell_type": "code",
   "execution_count": 54,
   "id": "5a4c1751",
   "metadata": {},
   "outputs": [],
   "source": [
    "!tar -xzf ./data/output/model.tar.gz"
   ]
  },
  {
   "cell_type": "code",
   "execution_count": 55,
   "id": "ef9714c3",
   "metadata": {},
   "outputs": [
    {
     "name": "stdout",
     "output_type": "stream",
     "text": [
      "Traceback (most recent call last):\n",
      "  File \"/home/ec2-user/SageMaker/2023-25.ML.UFS14_Flavio/main.py\", line 3, in <module>\n",
      "    from keras.models import Sequential\n",
      "ModuleNotFoundError: No module named 'keras'\n"
     ]
    }
   ],
   "source": [
    "!SM_MODEL_DIR=\"./data/output\" python main.py"
   ]
  },
  {
   "cell_type": "code",
   "execution_count": null,
   "id": "1acdcf96",
   "metadata": {},
   "outputs": [],
   "source": [
    "%%sh\n",
    "# Specify an image name\n",
    "image_name=tensorflow-training\n",
    "echo \"image_name: ${image_name} ######################\"\n",
    "\n",
    "account=$(aws sts get-caller-identity --query Account --output text)\n",
    "echo \"account: ${account} ######################\"\n",
    "\n",
    "# Get the region defined in the current configuration (default to us-west-2 if none defined)\n",
    "region=$(aws configure get region)\n",
    "echo \"region: ${region} ######################\"\n",
    "\n",
    "fullname=\"${account}.dkr.ecr.${region}.amazonaws.com/${image_name}:latest\"\n",
    "echo \"fullname: ${fullname} ######################\"\n",
    "\n",
    "aws ecr create-repository --repository-name \"${image_name}\""
   ]
  },
  {
   "cell_type": "code",
   "execution_count": null,
   "id": "6c8c8ab5",
   "metadata": {},
   "outputs": [],
   "source": [
    "!aws ecr get-login-password --region us-east-1 | docker login --username AWS --password-stdin 404098271430.dkr.ecr.us-east-1.amazonaws.com/tensorflow-training:latest"
   ]
  },
  {
   "cell_type": "code",
   "execution_count": null,
   "id": "67052053",
   "metadata": {},
   "outputs": [],
   "source": [
    "!docker tag ciao:mondo 404098271430.dkr.ecr.us-east-1.amazonaws.com/ciao:mondo"
   ]
  },
  {
   "cell_type": "code",
   "execution_count": 52,
   "id": "f9b7ef26",
   "metadata": {},
   "outputs": [
    {
     "name": "stdout",
     "output_type": "stream",
     "text": [
      "REPOSITORY   TAG       IMAGE ID       CREATED             SIZE\n",
      "<none>       <none>    545d50862b66   17 minutes ago      6.29GB\n",
      "<none>       <none>    3b3379ec449f   19 minutes ago      6.29GB\n",
      "<none>       <none>    0061d588b8da   21 minutes ago      6.29GB\n",
      "ciao         mondo     d2ee6806e1b4   30 minutes ago      6.29GB\n",
      "<none>       <none>    a4c537a28ef5   34 minutes ago      6.29GB\n",
      "<none>       <none>    90deedaec693   41 minutes ago      6.29GB\n",
      "<none>       <none>    bcc17d4a8e83   43 minutes ago      6.29GB\n",
      "<none>       <none>    1f83f716f5de   45 minutes ago      6.29GB\n",
      "<none>       <none>    007a76c6aac2   46 minutes ago      6.29GB\n",
      "<none>       <none>    4eb8fbd9e427   52 minutes ago      6.29GB\n",
      "<none>       <none>    bb4d2d77dedc   58 minutes ago      6.29GB\n",
      "<none>       <none>    3aa738173cf8   About an hour ago   6.57GB\n",
      "<none>       <none>    37b3c4891753   About an hour ago   6.13GB\n"
     ]
    }
   ],
   "source": [
    "!docker images"
   ]
  },
  {
   "cell_type": "code",
   "execution_count": null,
   "id": "882d9e5e",
   "metadata": {},
   "outputs": [],
   "source": [
    "!docker push 404098271430.dkr.ecr.us-east-1.amazonaws.com/tensorflow-training:ciaomondo"
   ]
  },
  {
   "cell_type": "code",
   "execution_count": null,
   "id": "f926884d",
   "metadata": {},
   "outputs": [],
   "source": [
    "!docker tag ciao:mondo 404098271430.dkr.ecr.us-east-1.amazonaws.com/tensorflow-training:ciaomondo"
   ]
  },
  {
   "cell_type": "code",
   "execution_count": null,
   "id": "6a47eee7",
   "metadata": {},
   "outputs": [],
   "source": [
    "from sagemaker import get_execution_role\n",
    "from sagemaker.estimator import Estimator\n",
    "import os\n",
    "\n",
    "role=get_execution_role()\n",
    "\n",
    "hyperparameters={'epochs': 10}\n",
    "\n",
    "estimator=Estimator(\n",
    "    image_uri='404098271430.dkr.ecr.us-east-1.amazonaws.com/tensorflow-training:ciaomondo',\n",
    "    role=role,\n",
    "    instance_count=1,\n",
    "    instance_type='ml.p2.xlarge', # file in remoto \n",
    "    hyperparameters=hyperparameters,\n",
    "    output_path='s3://data-frodi/data/output'.format(os.getcwd())\n",
    ")\n",
    "\n",
    "print('##### ESTIMATOR FIT STARTED')\n",
    "estimator.fit('s3://data-frodi/data/input/card_transdata.csv')\n",
    "print('##### ESTIMATOR FIT COMPLETED')\n",
    "\n",
    "    # estimator :\n",
    "        # defiscne l'immagine, \n",
    "        # la quantita di copie,\n",
    "        # loncale e non remota,\n",
    "        # gli iperparametri, \n",
    "        # dove salavre i file prodotti dal training \n",
    "        \n",
    "    # estmator fit:\n",
    "        # indica all'estimator di sagemaker il file d cui prendere i dati "
   ]
  },
  {
   "cell_type": "code",
   "execution_count": null,
   "id": "0aeb5bb8",
   "metadata": {},
   "outputs": [],
   "source": [
    "!docker build -t 404098271430.dkr.ecr.us-east-1.amazonaws.com/tensorflow-training:ciaomondo -f Dockerfile.train .\n",
    "    "
   ]
  },
  {
   "cell_type": "code",
   "execution_count": null,
   "id": "7db29274",
   "metadata": {},
   "outputs": [],
   "source": [
    "!docker push 404098271430.dkr.ecr.us-east-1.amazonaws.com/tensorflow-training:ciaomondo"
   ]
  },
  {
   "cell_type": "code",
   "execution_count": null,
   "id": "f90945e1",
   "metadata": {},
   "outputs": [],
   "source": []
  }
 ],
 "metadata": {
  "kernelspec": {
   "display_name": "conda_python3",
   "language": "python",
   "name": "conda_python3"
  },
  "language_info": {
   "codemirror_mode": {
    "name": "ipython",
    "version": 3
   },
   "file_extension": ".py",
   "mimetype": "text/x-python",
   "name": "python",
   "nbconvert_exporter": "python",
   "pygments_lexer": "ipython3",
   "version": "3.10.15"
  }
 },
 "nbformat": 4,
 "nbformat_minor": 5
}
